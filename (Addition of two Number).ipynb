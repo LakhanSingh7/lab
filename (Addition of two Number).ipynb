{
 "cells": [
  {
   "cell_type": "code",
   "execution_count": 3,
   "id": "d53c4d61-9f15-4b9b-a3ff-fcb238ef9603",
   "metadata": {},
   "outputs": [
    {
     "name": "stdin",
     "output_type": "stream",
     "text": [
      "Enter Number a 3\n",
      "Enter Number b 54\n"
     ]
    },
    {
     "name": "stdout",
     "output_type": "stream",
     "text": [
      "sum of 3 and 54 is 57\n"
     ]
    }
   ],
   "source": [
    " a =int(input(\"Enter Number a\"))\n",
    " b =int(input(\"Enter Number b\"))\n",
    " sum=a+b\n",
    "print(\"sum of\",a,\"and\",b,\"is\",sum)\n",
    "        "
   ]
  },
  {
   "cell_type": "code",
   "execution_count": null,
   "id": "25117a7e-5ac4-416e-90c3-7eb1e02b0244",
   "metadata": {},
   "outputs": [],
   "source": []
  }
 ],
 "metadata": {
  "kernelspec": {
   "display_name": "Python [conda env:base] *",
   "language": "python",
   "name": "conda-base-py"
  },
  "language_info": {
   "codemirror_mode": {
    "name": "ipython",
    "version": 3
   },
   "file_extension": ".py",
   "mimetype": "text/x-python",
   "name": "python",
   "nbconvert_exporter": "python",
   "pygments_lexer": "ipython3",
   "version": "3.12.7"
  }
 },
 "nbformat": 4,
 "nbformat_minor": 5
}
