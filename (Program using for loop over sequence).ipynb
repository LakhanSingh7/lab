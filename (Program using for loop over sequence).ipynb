{
 "cells": [
  {
   "cell_type": "code",
   "execution_count": 5,
   "id": "c8239add-ddd4-4114-a3a1-e64a0d37cb59",
   "metadata": {},
   "outputs": [
    {
     "name": "stdout",
     "output_type": "stream",
     "text": [
      "red\n",
      "green\n",
      "white\n",
      "purple\n",
      "pink\n",
      "marron\n"
     ]
    }
   ],
   "source": [
    "#For loop in list\n",
    "color_list=['red','green','white','purple','pink','marron']\n",
    "for i in color_list:\n",
    "    print(i)\n",
    "    "
   ]
  },
  {
   "cell_type": "code",
   "execution_count": 7,
   "id": "5bd5760c-5f97-4319-bf5d-0855b09f2801",
   "metadata": {},
   "outputs": [
    {
     "name": "stdout",
     "output_type": "stream",
     "text": [
      "G\n",
      "o\n",
      "e\n",
      "d\n",
      "u\n",
      "h\n",
      "u\n",
      "b\n",
      " \n",
      "t\n",
      "e\n",
      "c\n",
      "h\n",
      "n\n",
      "o\n",
      "l\n",
      "o\n",
      "g\n",
      "i\n",
      "e\n",
      "s\n"
     ]
    }
   ],
   "source": [
    "#for loop in string\n",
    "fr_string=\"Goeduhub technologies\"\n",
    "for i in fr_string:\n",
    "    print(i)"
   ]
  },
  {
   "cell_type": "code",
   "execution_count": 17,
   "id": "80a22f38-d01c-41f9-81e8-e5279e0f644d",
   "metadata": {},
   "outputs": [
    {
     "name": "stdout",
     "output_type": "stream",
     "text": [
      "1\n",
      "q\n",
      "2\n",
      "w\n",
      "3\n",
      "e\n",
      "4\n",
      "r\n"
     ]
    }
   ],
   "source": [
    "#for loop in dictionary\n",
    "fr_dict={1:'q',2:'w',3:'e',4:\"r\"}\n",
    "for i in fr_dict:\n",
    "    print(i)\n",
    "    print(fr_dict[i])"
   ]
  },
  {
   "cell_type": "code",
   "execution_count": 21,
   "id": "a40db9dc-5103-46f6-9abf-57156464fc02",
   "metadata": {},
   "outputs": [
    {
     "name": "stdout",
     "output_type": "stream",
     "text": [
      "55\n"
     ]
    }
   ],
   "source": [
    "#Sum of all list in elements\n",
    "Num =[1,2,3,4,5,6,7,8,9,10]\n",
    "sum=0\n",
    "for i in Num:\n",
    "    sum=sum+i\n",
    "print(sum)"
   ]
  },
  {
   "cell_type": "code",
   "execution_count": null,
   "id": "599adce6-b59b-4d95-b848-8e3e643b40b1",
   "metadata": {},
   "outputs": [],
   "source": []
  }
 ],
 "metadata": {
  "kernelspec": {
   "display_name": "Python [conda env:base] *",
   "language": "python",
   "name": "conda-base-py"
  },
  "language_info": {
   "codemirror_mode": {
    "name": "ipython",
    "version": 3
   },
   "file_extension": ".py",
   "mimetype": "text/x-python",
   "name": "python",
   "nbconvert_exporter": "python",
   "pygments_lexer": "ipython3",
   "version": "3.12.7"
  }
 },
 "nbformat": 4,
 "nbformat_minor": 5
}
