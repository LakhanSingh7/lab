{
 "cells": [
  {
   "cell_type": "code",
   "execution_count": null,
   "id": "c6f44b52-a819-420f-85ef-03ce7f4a80ca",
   "metadata": {},
   "outputs": [],
   "source": [
    "num = int(input(\"Enter the Number to be chcked\"))\n",
    "if (num % 2)==0 :\n",
    "    print(num,\"Is even\")\n",
    "else:\n",
    "    print(num,\"Is odd\")"
   ]
  },
  {
   "cell_type": "code",
   "execution_count": null,
   "id": "24fece8b-117c-44f4-891f-4bc6d33661d7",
   "metadata": {},
   "outputs": [],
   "source": []
  }
 ],
 "metadata": {
  "kernelspec": {
   "display_name": "Python [conda env:base] *",
   "language": "python",
   "name": "conda-base-py"
  },
  "language_info": {
   "codemirror_mode": {
    "name": "ipython",
    "version": 3
   },
   "file_extension": ".py",
   "mimetype": "text/x-python",
   "name": "python",
   "nbconvert_exporter": "python",
   "pygments_lexer": "ipython3",
   "version": "3.12.7"
  }
 },
 "nbformat": 4,
 "nbformat_minor": 5
}
