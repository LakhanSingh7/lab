{
 "cells": [
  {
   "cell_type": "code",
   "execution_count": null,
   "id": "99e6c08c-d028-4b49-9d90-6f54dddda17a",
   "metadata": {},
   "outputs": [],
   "source": [
    "num1=int(input(\"enter no one: \"))\n",
    "num2=int(input(\"enter no two: \"))\n",
    "sum=num1+num2;\n",
    "print(\"sum of \",num1,\"and\",num2,\"=\",sum)"
   ]
  }
 ],
 "metadata": {
  "kernelspec": {
   "display_name": "Python [conda env:base] *",
   "language": "python",
   "name": "conda-base-py"
  },
  "language_info": {
   "name": ""
  }
 },
 "nbformat": 4,
 "nbformat_minor": 5
}
