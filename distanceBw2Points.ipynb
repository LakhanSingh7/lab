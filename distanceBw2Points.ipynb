{
 "cells": [
  {
   "cell_type": "code",
   "execution_count": 10,
   "id": "d8ee05a4-a020-401d-b4b7-e2d76797acca",
   "metadata": {},
   "outputs": [
    {
     "name": "stdin",
     "output_type": "stream",
     "text": [
      "Enter x1:  1\n",
      "Enter y1:  2\n",
      "Enter x2:  3\n",
      "Enter y2:  4\n"
     ]
    },
    {
     "name": "stdout",
     "output_type": "stream",
     "text": [
      "Distance = 4.000000\n"
     ]
    }
   ],
   "source": [
    "x1 = float(input('Enter x1: '))\n",
    "y1 = float(input('Enter y1: '))\n",
    "x2 = float(input('Enter x2: '))\n",
    "y2 = float(input('Enter y2: '))\n",
    "d = ((x2-x1)+(y2-y1))\n",
    "print('Distance = %f' %(d))"
   ]
  },
  {
   "cell_type": "code",
   "execution_count": 12,
   "id": "9f3cb78a-0f55-4e58-9e73-2cf803a1a0db",
   "metadata": {},
   "outputs": [
    {
     "name": "stdin",
     "output_type": "stream",
     "text": [
      "enter no one:  5\n",
      "enter no two:  6\n"
     ]
    },
    {
     "name": "stdout",
     "output_type": "stream",
     "text": [
      "sum of  5 and 6 = 11\n"
     ]
    }
   ],
   "source": [
    "num1=int(input(\"enter no one: \"))\n",
    "num2=int(input(\"enter no two: \"))\n",
    "sum=num1+num2;\n",
    "print(\"sum of \",num1,\"and\",num2,\"=\",sum)"
   ]
  },
  {
   "cell_type": "code",
   "execution_count": 9,
   "id": "950a0416-155d-4df8-a26d-8320743cff54",
   "metadata": {},
   "outputs": [
    {
     "name": "stdout",
     "output_type": "stream",
     "text": [
      "<class 'str'>\n",
      "<class 'str'>\n",
      "<class 'str'>\n",
      "<class 'str'>\n"
     ]
    }
   ],
   "source": [
    "print(type('a'))\n",
    "print(type(\"hello\"))\n",
    "print(type('a'))\n",
    "print(type('char'))"
   ]
  },
  {
   "cell_type": "code",
   "execution_count": 5,
   "id": "d05248b8-6ebb-4a08-8e02-3f28b057b12a",
   "metadata": {},
   "outputs": [
    {
     "name": "stdout",
     "output_type": "stream",
     "text": [
      "<class 'int'>\n"
     ]
    }
   ],
   "source": [
    "print(type(1))"
   ]
  },
  {
   "cell_type": "code",
   "execution_count": null,
   "id": "2a983e30-2f9a-47e4-8fc8-235fa66c399c",
   "metadata": {},
   "outputs": [],
   "source": []
  }
 ],
 "metadata": {
  "kernelspec": {
   "display_name": "Python [conda env:base] *",
   "language": "python",
   "name": "conda-base-py"
  },
  "language_info": {
   "codemirror_mode": {
    "name": "ipython",
    "version": 3
   },
   "file_extension": ".py",
   "mimetype": "text/x-python",
   "name": "python",
   "nbconvert_exporter": "python",
   "pygments_lexer": "ipython3",
   "version": "3.12.7"
  }
 },
 "nbformat": 4,
 "nbformat_minor": 5
}
