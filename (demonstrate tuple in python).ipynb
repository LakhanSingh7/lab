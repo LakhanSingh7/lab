{
 "cells": [
  {
   "cell_type": "code",
   "execution_count": 3,
   "id": "b90f3245-da0d-4a99-82ee-391eb167f268",
   "metadata": {},
   "outputs": [
    {
     "name": "stdout",
     "output_type": "stream",
     "text": [
      "('apple', 'banana', 'Cherry', 'Apple', 'cherry')\n",
      "5\n"
     ]
    }
   ],
   "source": [
    "thistuple=(\"apple\",\"banana\",\"Cherry\",\"Apple\",\"cherry\")\n",
    "print(thistuple)\n",
    "print(len(thistuple))\n",
    "\n"
   ]
  },
  {
   "cell_type": "code",
   "execution_count": 5,
   "id": "79edd972-a2b8-433a-8032-bd5b78b64d94",
   "metadata": {},
   "outputs": [
    {
     "name": "stdout",
     "output_type": "stream",
     "text": [
      "<class 'tuple'>\n"
     ]
    }
   ],
   "source": [
    "#one item in tuple,remember comma\n",
    "thistuple=(\"apple\",)\n",
    "print(type(thistuple))"
   ]
  },
  {
   "cell_type": "code",
   "execution_count": 7,
   "id": "266cba4a-a110-45b3-8007-dd707c85ef49",
   "metadata": {},
   "outputs": [
    {
     "name": "stdout",
     "output_type": "stream",
     "text": [
      "('apple', '56', 'Cherry', '40', 'cherry')\n"
     ]
    }
   ],
   "source": [
    "tuple1=(\"apple\",\"56\",\"Cherry\",\"40\",\"cherry\")\n",
    "print(tuple1)"
   ]
  },
  {
   "cell_type": "code",
   "execution_count": 13,
   "id": "f9305cd8-9513-44fb-af72-8e9328510d2b",
   "metadata": {},
   "outputs": [
    {
     "name": "stdout",
     "output_type": "stream",
     "text": [
      "apple\n",
      "Apple\n"
     ]
    }
   ],
   "source": [
    "thistuple=(\"apple\",\"banana\",\"Cherry\",\"Apple\",\"cherry\")\n",
    "print(thistuple[0])\n",
    "print(thistuple[-2])"
   ]
  },
  {
   "cell_type": "code",
   "execution_count": null,
   "id": "0a4acdd0-98be-4f75-bfa8-e0ecce54a666",
   "metadata": {},
   "outputs": [],
   "source": [
    "#convert the tuple into a list to able to change \n",
    "x=(\"apple\",\"banana\",\"cherry\")\n",
    "y=list(x)\n",
    "y"
   ]
  }
 ],
 "metadata": {
  "kernelspec": {
   "display_name": "Python [conda env:base] *",
   "language": "python",
   "name": "conda-base-py"
  },
  "language_info": {
   "codemirror_mode": {
    "name": "ipython",
    "version": 3
   },
   "file_extension": ".py",
   "mimetype": "text/x-python",
   "name": "python",
   "nbconvert_exporter": "python",
   "pygments_lexer": "ipython3",
   "version": "3.12.7"
  }
 },
 "nbformat": 4,
 "nbformat_minor": 5
}
